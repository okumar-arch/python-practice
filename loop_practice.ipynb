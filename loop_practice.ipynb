{
 "cells": [
  {
   "cell_type": "code",
   "execution_count": 1,
   "id": "28156ad7-882a-4b51-9a88-b31bc21f87ff",
   "metadata": {},
   "outputs": [
    {
     "name": "stdin",
     "output_type": "stream",
     "text": [
      "enter number 6\n"
     ]
    },
    {
     "name": "stdout",
     "output_type": "stream",
     "text": [
      "21\n"
     ]
    }
   ],
   "source": [
    "#adding the number with a specific range\n",
    "no=int(input('enter number'))\n",
    "sum=0\n",
    "for i in range(1,no+1):\n",
    "    sum+=i\n",
    "print(sum)"
   ]
  },
  {
   "cell_type": "code",
   "execution_count": 3,
   "id": "69847120-359f-42ac-b1ce-b7c90c1f2615",
   "metadata": {},
   "outputs": [
    {
     "name": "stdin",
     "output_type": "stream",
     "text": [
      "enter number 6\n"
     ]
    },
    {
     "name": "stdout",
     "output_type": "stream",
     "text": [
      "Average is = 3.5\n"
     ]
    }
   ],
   "source": [
    "#finding the average \n",
    "no=int(input('enter number'))\n",
    "sum=0\n",
    "for i in range(1,no+1):\n",
    "    sum+=i\n",
    "avg=sum/no\n",
    "print('Average is =',avg)"
   ]
  },
  {
   "cell_type": "code",
   "execution_count": 5,
   "id": "0c1b71ae-d30d-422f-a68e-c9fcd882423c",
   "metadata": {},
   "outputs": [
    {
     "name": "stdout",
     "output_type": "stream",
     "text": [
      "5 10 15 20 25 "
     ]
    }
   ],
   "source": [
    "# multiplication of 5\n",
    "a=5\n",
    "while a<=25:\n",
    "    print(a,end=' ')\n",
    "    a=a+5"
   ]
  },
  {
   "cell_type": "code",
   "execution_count": 7,
   "id": "f0a9a145-ceda-434a-9991-2ba4ad94f6cf",
   "metadata": {},
   "outputs": [
    {
     "name": "stdin",
     "output_type": "stream",
     "text": [
      "Enter number 5\n"
     ]
    },
    {
     "name": "stdout",
     "output_type": "stream",
     "text": [
      "5  *  1  = 5\n",
      "5  *  2  = 10\n",
      "5  *  3  = 15\n",
      "5  *  4  = 20\n",
      "5  *  5  = 25\n",
      "5  *  6  = 30\n",
      "5  *  7  = 35\n",
      "5  *  8  = 40\n",
      "5  *  9  = 45\n",
      "5  *  10  = 50\n"
     ]
    }
   ],
   "source": [
    "#table of given number\n",
    "no =int(input('Enter number'))\n",
    "for j in range(1,11):\n",
    "    t=no*j\n",
    "    print(no,' * ',j ,' =',t)"
   ]
  },
  {
   "cell_type": "code",
   "execution_count": 9,
   "id": "65d406e9-aaca-41e1-b331-e86c990d2217",
   "metadata": {},
   "outputs": [
    {
     "name": "stdout",
     "output_type": "stream",
     "text": [
      "2 4 6 8 10 12 14 16 18 20 22 24 26 28 30 32 34 36 38 40 42 44 46 48 50 "
     ]
    }
   ],
   "source": [
    "#even number from 1 to 50\n",
    "for i in range(1,51):\n",
    "    if(i%2==0):\n",
    "        print(i,end=' ')"
   ]
  },
  {
   "cell_type": "code",
   "execution_count": 11,
   "id": "7009174a-8812-4576-b651-408cd58fb31b",
   "metadata": {},
   "outputs": [
    {
     "name": "stdout",
     "output_type": "stream",
     "text": [
      "-50 -49 -48 -47 -46 -45 -44 -43 -42 -41 -40 "
     ]
    }
   ],
   "source": [
    "#print negative value\n",
    "for i in range(-50,-39):\n",
    "    print(i,end=' ')\n",
    "    i-=1"
   ]
  },
  {
   "cell_type": "code",
   "execution_count": 29,
   "id": "0d4861d8-62c2-4aac-ade0-3305f47ecff5",
   "metadata": {},
   "outputs": [
    {
     "name": "stdin",
     "output_type": "stream",
     "text": [
      "Enter number 5\n"
     ]
    },
    {
     "name": "stdout",
     "output_type": "stream",
     "text": [
      "1 2 3 4 5 \n",
      " sum is 15\n"
     ]
    }
   ],
   "source": [
    "#adding the number with the help of while loop\n",
    "no=int(input('Enter number'))\n",
    "sum =0\n",
    "i=1\n",
    "while i<no+1:\n",
    "    print(i,end=' ')\n",
    "    sum=sum+i\n",
    "    i=i+1\n",
    "print('\\n sum is',sum)"
   ]
  },
  {
   "cell_type": "code",
   "execution_count": 31,
   "id": "392b1888-71dc-42dd-a65a-13cba4804608",
   "metadata": {},
   "outputs": [
    {
     "name": "stdout",
     "output_type": "stream",
     "text": [
      "dabademha"
     ]
    }
   ],
   "source": [
    "#reverse a string\n",
    "x = ('ahmedabad')\n",
    "for i in x[::-1]:\n",
    "    print(i,end='')"
   ]
  },
  {
   "cell_type": "code",
   "execution_count": 33,
   "id": "def1b37c-7915-45d1-a3bb-2ae919fb7a32",
   "metadata": {},
   "outputs": [
    {
     "name": "stdout",
     "output_type": "stream",
     "text": [
      "even number  5\n",
      "odd number  6\n",
      "<class 'int'>\n"
     ]
    }
   ],
   "source": [
    "#find the total no. of odd and even number\n",
    "even=0\n",
    "odd=0\n",
    "for i in range(1,12):\n",
    "    if(i%2==0):\n",
    "        even+=1\n",
    "    else:\n",
    "        odd+=1\n",
    "print ('even number ',even)\n",
    "print ('odd number ',odd)\n",
    "print (type(even))"
   ]
  },
  {
   "cell_type": "code",
   "execution_count": 7,
   "id": "83aa1f0b-66e0-4977-a9ce-ad7544822c46",
   "metadata": {},
   "outputs": [
    {
     "name": "stdout",
     "output_type": "stream",
     "text": [
      "5\n",
      "2\n"
     ]
    }
   ],
   "source": [
    "#find the total no. of alphabet and digit\n",
    "x='hello12'\n",
    "sum=0\n",
    "num=0\n",
    "for i in x:\n",
    "    if i.isdigit():\n",
    "        sum+=1\n",
    "    elif i.isalpha():\n",
    "        num+=1\n",
    "print(num)\n",
    "print(sum)\n",
    "        "
   ]
  }
 ],
 "metadata": {
  "kernelspec": {
   "display_name": "Python 3 (ipykernel)",
   "language": "python",
   "name": "python3"
  },
  "language_info": {
   "codemirror_mode": {
    "name": "ipython",
    "version": 3
   },
   "file_extension": ".py",
   "mimetype": "text/x-python",
   "name": "python",
   "nbconvert_exporter": "python",
   "pygments_lexer": "ipython3",
   "version": "3.12.4"
  }
 },
 "nbformat": 4,
 "nbformat_minor": 5
}
