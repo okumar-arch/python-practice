{
 "cells": [
  {
   "cell_type": "code",
   "execution_count": 5,
   "id": "a2c001b5-9022-40bb-96d7-3b59e2da2081",
   "metadata": {},
   "outputs": [
    {
     "name": "stdout",
     "output_type": "stream",
     "text": [
      "The smallest number is: 3\n"
     ]
    }
   ],
   "source": [
    "#find the smallest number\n",
    "a, b, c, d = 7, 3, 5, 10\n",
    "smallest = a\n",
    "if b < smallest:\n",
    " smallest = b\n",
    "if c < smallest:\n",
    " smallest = c\n",
    "if d < smallest:\n",
    " smallest = d\n",
    "print(\"The smallest number is:\", smallest)"
   ]
  },
  {
   "cell_type": "code",
   "execution_count": 9,
   "id": "a1b543a2-3c64-45e1-b9e9-a228e6bd946e",
   "metadata": {},
   "outputs": [
    {
     "name": "stdout",
     "output_type": "stream",
     "text": [
      "Second largest no is  -118\n"
     ]
    }
   ],
   "source": [
    "#find the second largest number\n",
    "a,b,c=-108,-118,-120\n",
    "if(b<a<c or b>a>c):\n",
    "    print('Second largest no is ',a)\n",
    "elif(a<b<c or a>b>c):\n",
    "    print('Second largest no is ',b)\n",
    "elif(a<c<b or a>c>b):\n",
    "    print('Second largest no is ',c)\n",
    "else:\n",
    "    print('two no is same')"
   ]
  },
  {
   "cell_type": "code",
   "execution_count": 13,
   "id": "e0ed2dee-b51a-4dd5-a31c-42ae2b292a6c",
   "metadata": {},
   "outputs": [
    {
     "name": "stdin",
     "output_type": "stream",
     "text": [
      " 5\n",
      " 2\n",
      " 8\n"
     ]
    },
    {
     "name": "stdout",
     "output_type": "stream",
     "text": [
      "yes number is between\n"
     ]
    }
   ],
   "source": [
    "#find the given number is between the range or not\n",
    "n=int(input())\n",
    "l=int(input())\n",
    "r=int(input())\n",
    "if(n>=l and n<=r) or (n<=l and n>=r):\n",
    "    print('yes number is between')\n",
    "else:\n",
    "    print('No number is not')"
   ]
  },
  {
   "cell_type": "code",
   "execution_count": 17,
   "id": "c2ef7609-a400-4292-a31b-1d4285f996f0",
   "metadata": {},
   "outputs": [
    {
     "name": "stdout",
     "output_type": "stream",
     "text": [
      "Enter which type of student your \n",
      " 1. MSDS \n",
      " 2.MSH \n",
      " 3. MGSDS  \n",
      " 4. MGSH\n"
     ]
    },
    {
     "name": "stdin",
     "output_type": "stream",
     "text": [
      "Enter ur choice 1\n",
      "Enter the tutuion fees 100000\n",
      "Enter the bus fees 20000\n"
     ]
    },
    {
     "name": "stdout",
     "output_type": "stream",
     "text": [
      "Total fees of year  120000\n"
     ]
    }
   ],
   "source": [
    "#calcute the total amount of fees\n",
    "print(\"Enter which type of student your \\n 1. MSDS \\n 2.MSH \\n 3. MGSDS  \\n 4. MGSH\")\n",
    "no=int(input(\"Enter ur choice\"))\n",
    "tfees=int(input('Enter the tutuion fees'))\n",
    "if(no==1):\n",
    "    bfees=int(input('Enter the bus fees'))\n",
    "    total=bfees+tfees\n",
    "    print('Total fees of year ',total)\n",
    "elif(no==2):\n",
    "    hfees=int(input('Enter the hostel fees'))\n",
    "    total=(hfees+tfees)\n",
    "    print(total)\n",
    "elif(no==3):\n",
    "    bfees=int(input('Enter the bus fees'))\n",
    "    total=bfees+(1.5*tfees)\n",
    "    print(total)\n",
    "elif(no==4):\n",
    "    hfees=int(input('Enter the hostel fees'))\n",
    "    total=hfees+(1.5*tfees)\n",
    "    print(total)\n"
   ]
  },
  {
   "cell_type": "code",
   "execution_count": 23,
   "id": "880e5580-5064-4d93-a266-064d45946b00",
   "metadata": {},
   "outputs": [
    {
     "name": "stdin",
     "output_type": "stream",
     "text": [
      "Enter the string rear\n",
      "Enter the rail no. 1\n"
     ]
    },
    {
     "name": "stdout",
     "output_type": "stream",
     "text": [
      "person is right\n"
     ]
    }
   ],
   "source": [
    "#find the person is left handed or right handed \n",
    "strin=str(input('Enter the string'))\n",
    "rail=int(input('Enter the rail no.'))\n",
    "if(strin ==\"FRONT\" or strin ==\"front\"):\n",
    "    if(rail==1):\n",
    "        print('person is left')\n",
    "    elif(rail==2):\n",
    "        print('person is right')\n",
    "elif(strin=='REAR' or strin=='rear'):\n",
    "    if(rail==2):\n",
    "        print('person is left')\n",
    "    elif(rail==1):\n",
    "        print('person is right')\n",
    "         "
   ]
  },
  {
   "cell_type": "code",
   "execution_count": null,
   "id": "b458870f-8591-4b80-a6ee-e4e0bb40d589",
   "metadata": {},
   "outputs": [],
   "source": []
  }
 ],
 "metadata": {
  "kernelspec": {
   "display_name": "Python 3 (ipykernel)",
   "language": "python",
   "name": "python3"
  },
  "language_info": {
   "codemirror_mode": {
    "name": "ipython",
    "version": 3
   },
   "file_extension": ".py",
   "mimetype": "text/x-python",
   "name": "python",
   "nbconvert_exporter": "python",
   "pygments_lexer": "ipython3",
   "version": "3.12.4"
  }
 },
 "nbformat": 4,
 "nbformat_minor": 5
}
