{
 "cells": [
  {
   "cell_type": "code",
   "execution_count": 1,
   "id": "4ff2e2c5-42cf-455b-820c-17c9bf6ba52e",
   "metadata": {},
   "outputs": [
    {
     "name": "stdin",
     "output_type": "stream",
     "text": [
      " 10\n",
      " 5\n"
     ]
    },
    {
     "name": "stdout",
     "output_type": "stream",
     "text": [
      "15\n"
     ]
    }
   ],
   "source": [
    "#adding two number\n",
    "def sum1(a,b):\n",
    "    t=a+b\n",
    "    print(t)\n",
    "\n",
    "a=int(input())\n",
    "b=int(input())\n",
    "sum1(a,b)"
   ]
  },
  {
   "cell_type": "code",
   "execution_count": 3,
   "id": "039d7ce1-85b9-4e69-a606-c7fab5bb4237",
   "metadata": {},
   "outputs": [
    {
     "name": "stdout",
     "output_type": "stream",
     "text": [
      "120\n"
     ]
    }
   ],
   "source": [
    "#factorial though function\n",
    "def fact(a):\n",
    "    for i in range(1,a):\n",
    "        a*=i\n",
    "    print(a)\n",
    "fact(5)"
   ]
  },
  {
   "cell_type": "code",
   "execution_count": 5,
   "id": "dbd728ba-9ac9-4bca-b0fa-202e8d75d8cc",
   "metadata": {},
   "outputs": [
    {
     "name": "stdin",
     "output_type": "stream",
     "text": [
      "Enter 1st 10\n",
      "Enter 2st 2.5\n",
      "Enter 3st 5\n"
     ]
    },
    {
     "data": {
      "text/plain": [
       "(17.5, 125.0)"
      ]
     },
     "execution_count": 5,
     "metadata": {},
     "output_type": "execute_result"
    }
   ],
   "source": [
    "#adding and multiplication of number different data type\n",
    "x=int(input('Enter 1st'))\n",
    "y=float(input('Enter 2st'))\n",
    "z=int(input('Enter 3st'))\n",
    "\n",
    "def sum(x,y,z):\n",
    "    return x+y+z,x*y*z\n",
    "    #2. add=x+y+z  prod=x*y*z\n",
    "    #return add,prod\n",
    "\n",
    "sum(x,y,z)"
   ]
  },
  {
   "cell_type": "code",
   "execution_count": 9,
   "id": "328a389e-0d33-4d31-97e4-44a69672eca5",
   "metadata": {},
   "outputs": [
    {
     "name": "stdout",
     "output_type": "stream",
     "text": [
      "90  is greatest\n"
     ]
    }
   ],
   "source": [
    "# finding the maximum number from three number\n",
    "a=10\n",
    "b=80\n",
    "c=90\n",
    "\n",
    "def max(a,b,c):\n",
    "    if(a>b):\n",
    "        if(a>c):\n",
    "            print(a, ' is greatest')\n",
    "        elif(a<c):\n",
    "            print(b, ' is greatest')\n",
    "    elif(a<b):\n",
    "        if(b>c):\n",
    "            print(b,' is greatest')\n",
    "        elif(b<c):\n",
    "            print(c,' is greatest')\n",
    "    \n",
    "\n",
    "max(a,b,c)\n"
   ]
  },
  {
   "cell_type": "code",
   "execution_count": 17,
   "id": "e82b809e-ad4f-40df-a3db-83b11cb65865",
   "metadata": {},
   "outputs": [
    {
     "name": "stdout",
     "output_type": "stream",
     "text": [
      "90\n"
     ]
    }
   ],
   "source": [
    "# find maximum\n",
    "a=10\n",
    "b=80\n",
    "c=90\n",
    "\n",
    "def max(a,b,c):\n",
    "    if(a>b):\n",
    "        print(a)\n",
    "    elif(a>c):\n",
    "        print(a)\n",
    "    elif(b>c):\n",
    "        print(b)\n",
    "    else:\n",
    "        print(c)\n",
    "max(a,b,c)\n",
    "    "
   ]
  },
  {
   "cell_type": "code",
   "execution_count": 17,
   "id": "8733a211-16ea-429a-9a9f-dbf7edd9a0b8",
   "metadata": {},
   "outputs": [
    {
     "name": "stdin",
     "output_type": "stream",
     "text": [
      " 29\n"
     ]
    },
    {
     "name": "stdout",
     "output_type": "stream",
     "text": [
      "first digit is =  2\n",
      "second one is  9\n",
      "29\n",
      "yes it is a special number\n"
     ]
    }
   ],
   "source": [
    "#special no = 19 =1+9=10; 1*9=9; 10+9=19; 19=19\n",
    "n=input()\n",
    "for i in n:\n",
    "    r=i\n",
    "    break\n",
    "a=int(n)\n",
    "b=int(r)\n",
    "x=b*10\n",
    "y=a-x\n",
    "print('first digit is = ',b)\n",
    "print('second one is ',y)\n",
    "sum=(b+y)+(b*y)\n",
    "print(sum)\n",
    "if(sum==a):\n",
    "    print('yes it is a special number')\n",
    "else:\n",
    "    print('no')\n",
    "\n"
   ]
  },
  {
   "cell_type": "code",
   "execution_count": 13,
   "id": "5781e2f8-553e-43ba-81b2-7b377981e718",
   "metadata": {},
   "outputs": [
    {
     "name": "stdin",
     "output_type": "stream",
     "text": [
      " 19\n"
     ]
    },
    {
     "name": "stdout",
     "output_type": "stream",
     "text": [
      "1\n",
      "9\n",
      "special number  19\n"
     ]
    }
   ],
   "source": [
    "#special number with different method\n",
    "x=int(input())\n",
    "first=x//10\n",
    "second=x%10\n",
    "print(first)\n",
    "print(second)\n",
    "sum=first+second\n",
    "pro=first*second\n",
    "print('special number ',sum+pro)"
   ]
  }
 ],
 "metadata": {
  "kernelspec": {
   "display_name": "Python 3 (ipykernel)",
   "language": "python",
   "name": "python3"
  },
  "language_info": {
   "codemirror_mode": {
    "name": "ipython",
    "version": 3
   },
   "file_extension": ".py",
   "mimetype": "text/x-python",
   "name": "python",
   "nbconvert_exporter": "python",
   "pygments_lexer": "ipython3",
   "version": "3.12.4"
  }
 },
 "nbformat": 4,
 "nbformat_minor": 5
}
