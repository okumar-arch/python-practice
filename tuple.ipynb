{
 "cells": [
  {
   "cell_type": "code",
   "execution_count": 1,
   "id": "28c8a1ce-f99c-447f-9f0c-8d839ad2542c",
   "metadata": {},
   "outputs": [
    {
     "name": "stdout",
     "output_type": "stream",
     "text": [
      "()\n"
     ]
    }
   ],
   "source": [
    "#creating empty tuple\n",
    "empty_tuple=()\n",
    "print(empty_tuple)"
   ]
  },
  {
   "cell_type": "code",
   "execution_count": 5,
   "id": "461cb804-9832-4a31-a580-68395f77da6c",
   "metadata": {},
   "outputs": [
    {
     "name": "stdout",
     "output_type": "stream",
     "text": [
      "(26, 45, 32)\n"
     ]
    }
   ],
   "source": [
    "valuetuple=26,45,32\n",
    "print(valuetuple)"
   ]
  },
  {
   "cell_type": "code",
   "execution_count": 3,
   "id": "52610e2c-0c7d-44b3-a828-00b45b250ca0",
   "metadata": {},
   "outputs": [
    {
     "name": "stdout",
     "output_type": "stream",
     "text": [
      "(26, 45, 'hello')\n"
     ]
    }
   ],
   "source": [
    "#creating tuple with different data type\n",
    "valuetuple=(26,45,'hello')\n",
    "print(valuetuple)"
   ]
  },
  {
   "cell_type": "code",
   "execution_count": 11,
   "id": "ce49bf5c-9d11-4b09-b85a-561f04f8ddeb",
   "metadata": {},
   "outputs": [
    {
     "name": "stdout",
     "output_type": "stream",
     "text": [
      "('h', 'e', 'l', 'l', 'o') <class 'tuple'>\n"
     ]
    }
   ],
   "source": [
    "value=tuple('hello')\n",
    "print(value,type(value))"
   ]
  },
  {
   "cell_type": "code",
   "execution_count": 13,
   "id": "2dd7f5c6-c6f5-4afb-a9da-867653a5263d",
   "metadata": {},
   "outputs": [
    {
     "name": "stdout",
     "output_type": "stream",
     "text": [
      "('hello',)\n"
     ]
    }
   ],
   "source": [
    "value=('hello',)\n",
    "print(value)"
   ]
  },
  {
   "cell_type": "code",
   "execution_count": 21,
   "id": "c578084d-a354-40f8-8e52-7fec94d82f66",
   "metadata": {},
   "outputs": [
    {
     "ename": "TypeError",
     "evalue": "'tuple' object does not support item assignment",
     "output_type": "error",
     "traceback": [
      "\u001b[1;31m---------------------------------------------------------------------------\u001b[0m",
      "\u001b[1;31mTypeError\u001b[0m                                 Traceback (most recent call last)",
      "Cell \u001b[1;32mIn[21], line 3\u001b[0m\n\u001b[0;32m      1\u001b[0m \u001b[38;5;66;03m#cannot change the tuple\u001b[39;00m\n\u001b[0;32m      2\u001b[0m value\u001b[38;5;241m=\u001b[39m(\u001b[38;5;241m26\u001b[39m,\u001b[38;5;241m45\u001b[39m,\u001b[38;5;241m78\u001b[39m)\n\u001b[1;32m----> 3\u001b[0m value[\u001b[38;5;241m1\u001b[39m]\u001b[38;5;241m=\u001b[39m\u001b[38;5;241m9\u001b[39m\n\u001b[0;32m      4\u001b[0m \u001b[38;5;28mprint\u001b[39m(value)\n",
      "\u001b[1;31mTypeError\u001b[0m: 'tuple' object does not support item assignment"
     ]
    }
   ],
   "source": [
    "#cannot change the tuple\n",
    "value=(26,45,78)\n",
    "value[1]=9\n",
    "print(value)"
   ]
  },
  {
   "cell_type": "code",
   "execution_count": 17,
   "id": "735ba36a-910c-4dc2-97aa-a62faf2d4c49",
   "metadata": {},
   "outputs": [
    {
     "name": "stdout",
     "output_type": "stream",
     "text": [
      "(26, 45, 'hello', 4, 56, 'python')\n"
     ]
    }
   ],
   "source": [
    "#printing 2 tuple\n",
    "value1=(26,45,'hello')\n",
    "valu2=4,56,'python'\n",
    "print(value1+valu2)"
   ]
  },
  {
   "cell_type": "code",
   "execution_count": 15,
   "id": "b8377b0a-4292-4ec0-b10d-d7a4c880a39f",
   "metadata": {},
   "outputs": [
    {
     "name": "stdout",
     "output_type": "stream",
     "text": [
      "((26, 45, 'hello'), (7, 5.6, 'pyhton', (8, 9)))\n"
     ]
    }
   ],
   "source": [
    "#adding two tuple\n",
    "value1=(26,45,'hello')\n",
    "extra=8,9\n",
    "value2=7,5.6,'pyhton',extra\n",
    "value3=value1,value2\n",
    "print(value3)\n"
   ]
  },
  {
   "cell_type": "code",
   "execution_count": 19,
   "id": "6ea15265-ada0-4fde-ae53-5f1896942655",
   "metadata": {},
   "outputs": [
    {
     "name": "stdout",
     "output_type": "stream",
     "text": [
      "(26, 45, 'heelo', 26, 45, 'heelo')\n"
     ]
    }
   ],
   "source": [
    "#Concatenation tuple with itself\n",
    "value=(26,45,'heelo')*2\n",
    "print(value)"
   ]
  },
  {
   "cell_type": "code",
   "execution_count": 23,
   "id": "54c5f009-64dd-4d1e-832d-7558c231b28d",
   "metadata": {},
   "outputs": [
    {
     "name": "stdout",
     "output_type": "stream",
     "text": [
      "7.5\n"
     ]
    }
   ],
   "source": [
    "#accessing the value with index no\n",
    "value=(26,45,'hello',7.5)\n",
    "print(value[3])"
   ]
  },
  {
   "cell_type": "code",
   "execution_count": 27,
   "id": "9204da9c-4344-44bc-82ac-90589211ef4f",
   "metadata": {},
   "outputs": [
    {
     "name": "stdout",
     "output_type": "stream",
     "text": [
      "('hello', 4.8)\n"
     ]
    }
   ],
   "source": [
    "#slicing the tuple with starting value\n",
    "value=(26,45,'hello',4.8)\n",
    "print(value[2:])"
   ]
  },
  {
   "cell_type": "code",
   "execution_count": 29,
   "id": "cdb96643-34a5-4d25-802b-96777bdaaf80",
   "metadata": {},
   "outputs": [
    {
     "name": "stdout",
     "output_type": "stream",
     "text": [
      "(26, 45, 'hello')\n"
     ]
    }
   ],
   "source": [
    "#slicing the tuple with stop value\n",
    "value=(26,45,'hello',4.8)\n",
    "print(value[:3])"
   ]
  },
  {
   "cell_type": "code",
   "execution_count": 41,
   "id": "dccb08d9-678c-4679-a0fd-fdcdfa057831",
   "metadata": {},
   "outputs": [
    {
     "name": "stdout",
     "output_type": "stream",
     "text": [
      "(26, 45, 'hello', 7.5)\n"
     ]
    }
   ],
   "source": [
    "value=(26,45,'hello',7.5,'z',6.9,5)\n",
    "print(value[:4])"
   ]
  },
  {
   "cell_type": "code",
   "execution_count": 31,
   "id": "ab9d716e-a6d3-4bfe-8cd1-d778548a4324",
   "metadata": {},
   "outputs": [
    {
     "name": "stdout",
     "output_type": "stream",
     "text": [
      "5\n"
     ]
    }
   ],
   "source": [
    "# access the value with negative value\n",
    "value=(26,45,'hello',7.5,'z',6.9,5)\n",
    "print(value[-1])"
   ]
  },
  {
   "cell_type": "code",
   "execution_count": 33,
   "id": "a3c8e193-d0d4-481a-b623-00146e3f4ce9",
   "metadata": {},
   "outputs": [
    {
     "name": "stdout",
     "output_type": "stream",
     "text": [
      "(5, 6.9, 'z')\n"
     ]
    }
   ],
   "source": [
    "#access the value with negative stop value and step value\n",
    "value=(26,45,'hello',7.5,'z',6.9,5)\n",
    "print(value[:-4:-1])"
   ]
  },
  {
   "cell_type": "code",
   "execution_count": 49,
   "id": "6bc84e9a-875e-4cc8-a360-cab6a71e0def",
   "metadata": {},
   "outputs": [
    {
     "name": "stdout",
     "output_type": "stream",
     "text": [
      "(26, 45, 'hello')\n"
     ]
    }
   ],
   "source": [
    "value=(26,45,'hello',7.5,'z',6.9,5)\n",
    "print(value[:-4])"
   ]
  },
  {
   "cell_type": "code",
   "execution_count": 51,
   "id": "55932be5-1d96-4d2c-85b7-4461b67e655a",
   "metadata": {},
   "outputs": [
    {
     "name": "stdout",
     "output_type": "stream",
     "text": [
      "(7.5, 'z', 6.9, 5)\n"
     ]
    }
   ],
   "source": [
    "value=(26,45,'hello',7.5,'z',6.9,5)\n",
    "print(value[-4:])"
   ]
  },
  {
   "cell_type": "code",
   "execution_count": 53,
   "id": "033b01ae-2f4e-4848-b192-434160ee0e03",
   "metadata": {},
   "outputs": [
    {
     "name": "stdout",
     "output_type": "stream",
     "text": [
      "(5, 'z', 'hello', 26)\n"
     ]
    }
   ],
   "source": [
    "value=(26,45,'hello',7.5,'z',6.9,5)\n",
    "print(value[::-2])"
   ]
  },
  {
   "cell_type": "code",
   "execution_count": 55,
   "id": "97d4fc71-6838-4ccb-b399-e08387b564ee",
   "metadata": {},
   "outputs": [
    {
     "name": "stdout",
     "output_type": "stream",
     "text": [
      "(45, 'z')\n"
     ]
    }
   ],
   "source": [
    "value=(26,45,'hello',7.5,'z',6.9,5)\n",
    "print(value[1::3])"
   ]
  },
  {
   "cell_type": "code",
   "execution_count": 57,
   "id": "531c4221-1811-446a-9d9e-87e7237ebf63",
   "metadata": {},
   "outputs": [
    {
     "name": "stdout",
     "output_type": "stream",
     "text": [
      "(5, 'z', 'hello', 26)\n"
     ]
    }
   ],
   "source": [
    "value=(26,45,'hello',7.5,'z',6.9,5)\n",
    "print(value[-1::-2])"
   ]
  },
  {
   "cell_type": "code",
   "execution_count": 59,
   "id": "7a307a3e-123a-4a4f-b8cb-3e671035e5dc",
   "metadata": {},
   "outputs": [
    {
     "name": "stdout",
     "output_type": "stream",
     "text": [
      "(45, 7.5, 6.9)\n"
     ]
    }
   ],
   "source": [
    "value=(26,45,'hello',7.5,'z',6.9,5)\n",
    "print(value[1:6:2])"
   ]
  },
  {
   "cell_type": "code",
   "execution_count": 67,
   "id": "9ff44e94-1ec3-4b95-b540-2da840fe03f0",
   "metadata": {},
   "outputs": [
    {
     "name": "stdout",
     "output_type": "stream",
     "text": [
      "(6, 3)\n"
     ]
    }
   ],
   "source": [
    "value=(26,45,'hello',7.5,'z',6.9,5)\n",
    "del(value)\n",
    "value=6,3\n",
    "#tuple deleted now there is no tuple by that name so will give error\n",
    "print(value)"
   ]
  },
  {
   "cell_type": "code",
   "execution_count": 1,
   "id": "000ed999-4b1a-4812-8014-8fd2bd7ed66e",
   "metadata": {},
   "outputs": [
    {
     "name": "stdout",
     "output_type": "stream",
     "text": [
      "('hii',)\n",
      "(('hii',),)\n",
      "((('hii',),),)\n"
     ]
    }
   ],
   "source": [
    "tuple=('hii')\n",
    "n=3\n",
    "for i in range(int(n)):\n",
    "    tuple=(tuple,)\n",
    "    print(tuple)"
   ]
  },
  {
   "cell_type": "code",
   "execution_count": 3,
   "id": "f6d21e8d-aec0-4e38-a819-31cb48a9003c",
   "metadata": {},
   "outputs": [
    {
     "name": "stdout",
     "output_type": "stream",
     "text": [
      "5\n"
     ]
    }
   ],
   "source": [
    "tuple=('developer', 5,8.9,'r',8)\n",
    "print(len(tuple))"
   ]
  },
  {
   "cell_type": "code",
   "execution_count": 11,
   "id": "c2b399a3-607c-425c-ad58-ff844dfecdd1",
   "metadata": {},
   "outputs": [
    {
     "name": "stdout",
     "output_type": "stream",
     "text": [
      "89\n",
      "4\n",
      "115\n",
      "[4, 5, 8, 9, 89]\n"
     ]
    }
   ],
   "source": [
    "tuple=(9,5,89,4,8)\n",
    "print(max(tuple))\n",
    "print(min(tuple))\n",
    "print(sum(tuple))\n",
    "print(sorted(tuple))"
   ]
  },
  {
   "cell_type": "code",
   "execution_count": 31,
   "id": "cb244b83-ab7e-4e09-8b3c-abcb231483a6",
   "metadata": {},
   "outputs": [
    {
     "name": "stdout",
     "output_type": "stream",
     "text": [
      "True\n",
      "False\n"
     ]
    }
   ],
   "source": [
    "#any means if any one is true is true like or\n",
    "tuple=(4,1)\n",
    "print(any(tuple))\n",
    "a=(0,)\n",
    "print(any(a))"
   ]
  },
  {
   "cell_type": "code",
   "execution_count": 33,
   "id": "6b1219ce-e79c-4bcd-a0bf-cae9fce1c540",
   "metadata": {},
   "outputs": [
    {
     "name": "stdout",
     "output_type": "stream",
     "text": [
      "True\n",
      "False\n",
      "True\n"
     ]
    }
   ],
   "source": [
    "#all means every one should true like and\n",
    "tuple=(4,1)\n",
    "print(all(tuple))\n",
    "a=(0,5,7)\n",
    "print(all(a))\n",
    "b=()\n",
    "print(all(b))"
   ]
  },
  {
   "cell_type": "code",
   "execution_count": 37,
   "id": "105b8156-d33a-42e2-8dee-1079f0b3a2f8",
   "metadata": {},
   "outputs": [
    {
     "name": "stdout",
     "output_type": "stream",
     "text": [
      "appple\n",
      "byte\n",
      "computer\n"
     ]
    }
   ],
   "source": [
    "tuple=('appple','byte','computer')\n",
    "for i in tuple:\n",
    "    print(i)"
   ]
  },
  {
   "cell_type": "code",
   "execution_count": 39,
   "id": "9b0dbc5f-6a4a-4ad8-a1a2-53756c424746",
   "metadata": {},
   "outputs": [
    {
     "name": "stdout",
     "output_type": "stream",
     "text": [
      "appple\n",
      "byte\n"
     ]
    }
   ],
   "source": [
    "tuple=('appple','byte','computer')\n",
    "n=2\n",
    "for i in range(n):\n",
    "    print(tuple[i])"
   ]
  },
  {
   "cell_type": "code",
   "execution_count": 41,
   "id": "23503d30-d47c-44ef-b1ea-f843d4c823f9",
   "metadata": {},
   "outputs": [
    {
     "name": "stdout",
     "output_type": "stream",
     "text": [
      "['appple', 'byte', 'computer']\n"
     ]
    }
   ],
   "source": [
    "tuple=('appple','byte','computer')\n",
    "print(list(tuple))"
   ]
  },
  {
   "cell_type": "code",
   "execution_count": 47,
   "id": "d45ff821-b9ed-4ef2-aed3-572adf81d8a0",
   "metadata": {},
   "outputs": [
    {
     "name": "stdout",
     "output_type": "stream",
     "text": [
      "0\n",
      "2\n"
     ]
    }
   ],
   "source": [
    "tuple=(3,7,'p','y','z',9.5,'y')\n",
    "print(tuple.count(9))\n",
    "print(tuple.count('y'))"
   ]
  },
  {
   "cell_type": "code",
   "execution_count": 49,
   "id": "521a078a-9280-49ae-b3bb-dfc57bb0762f",
   "metadata": {},
   "outputs": [
    {
     "name": "stdout",
     "output_type": "stream",
     "text": [
      "1\n",
      "3\n"
     ]
    }
   ],
   "source": [
    "tuple=(3,7,'p','y','z',9.5,'y')\n",
    "print(tuple.index(7))\n",
    "print(tuple.index('y'))"
   ]
  },
  {
   "cell_type": "code",
   "execution_count": null,
   "id": "a4e2362d-91a7-4a8b-801a-dc3b7de64bb3",
   "metadata": {},
   "outputs": [],
   "source": []
  }
 ],
 "metadata": {
  "kernelspec": {
   "display_name": "Python 3 (ipykernel)",
   "language": "python",
   "name": "python3"
  },
  "language_info": {
   "codemirror_mode": {
    "name": "ipython",
    "version": 3
   },
   "file_extension": ".py",
   "mimetype": "text/x-python",
   "name": "python",
   "nbconvert_exporter": "python",
   "pygments_lexer": "ipython3",
   "version": "3.12.4"
  }
 },
 "nbformat": 4,
 "nbformat_minor": 5
}
