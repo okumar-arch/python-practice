{
 "cells": [
  {
   "cell_type": "code",
   "execution_count": 22,
   "id": "e5d0e412-f871-47a3-b0be-881ea09421f1",
   "metadata": {},
   "outputs": [
    {
     "name": "stdout",
     "output_type": "stream",
     "text": [
      " ****\n",
      " ****\n",
      " ****\n",
      " ****\n"
     ]
    }
   ],
   "source": [
    "#printing pattern normally\n",
    "a='*'\n",
    "for i in range(1,5):\n",
    "    print('',a*4)\n",
    "        "
   ]
  },
  {
   "cell_type": "code",
   "execution_count": 24,
   "id": "a0af8ae1-71be-413d-9664-f00012ead407",
   "metadata": {},
   "outputs": [
    {
     "name": "stdout",
     "output_type": "stream",
     "text": [
      "****\n",
      "****\n",
      "****\n",
      "****\n"
     ]
    }
   ],
   "source": [
    "#with nested loop\n",
    "n=4\n",
    "for i in range(n):\n",
    "    for i in range(1,n+1):\n",
    "        print('*',end='')\n",
    "    print()"
   ]
  },
  {
   "cell_type": "code",
   "execution_count": 28,
   "id": "cf4ac8ba-d7fe-439d-b619-f7b24dfe10e7",
   "metadata": {},
   "outputs": [
    {
     "name": "stdout",
     "output_type": "stream",
     "text": [
      " ****\n",
      "  ****\n",
      "   ****\n",
      "    ****\n"
     ]
    }
   ],
   "source": [
    "#print the patern with indentation \n",
    "for i in range(4):\n",
    "    for j in range(1):\n",
    "        print(' '*i,'*'* 4)\n"
   ]
  },
  {
   "cell_type": "code",
   "execution_count": 46,
   "id": "d89d972a-b23a-4668-8ccb-ffcda5cecc99",
   "metadata": {},
   "outputs": [
    {
     "name": "stdout",
     "output_type": "stream",
     "text": [
      "       *\n",
      "      * *\n",
      "     * * *\n",
      "    * * * *\n",
      "   * * * * *\n"
     ]
    }
   ],
   "source": [
    "#pattern like a pyramid\n",
    "n=6\n",
    "for i in range(1,6):\n",
    "    for j in range(1):\n",
    "        print(' '*(n-1),i*' *')\n",
    "        n=n-1"
   ]
  },
  {
   "cell_type": "code",
   "execution_count": 44,
   "id": "d17c4714-fcd4-4595-909d-6e0a8b2ca70e",
   "metadata": {},
   "outputs": [
    {
     "name": "stdout",
     "output_type": "stream",
     "text": [
      "      *\n",
      "     **\n",
      "    ***\n",
      "   ****\n",
      "  *****\n"
     ]
    }
   ],
   "source": [
    "#pattern falling towards left\n",
    "n=6\n",
    "for i in range(1,6):\n",
    "    for j in range(1):\n",
    "        print(' '*(n-1),i*'*')\n",
    "        n=n-1"
   ]
  },
  {
   "cell_type": "code",
   "execution_count": 30,
   "id": "0ec714dd-3985-45ac-8d37-d761fa20a103",
   "metadata": {},
   "outputs": [
    {
     "name": "stdout",
     "output_type": "stream",
     "text": [
      "\n",
      " * \n",
      " *  * \n",
      " *  *  * \n",
      " *  *  *  * \n"
     ]
    }
   ],
   "source": [
    "#pattern falling towards right \n",
    "n=5\n",
    "for i in range(n):\n",
    "    for j in range(i):\n",
    "        print(' * ',end='')\n",
    "    print()"
   ]
  },
  {
   "cell_type": "code",
   "execution_count": 76,
   "id": "3a214210-3825-48a6-a66d-96be08824637",
   "metadata": {},
   "outputs": [
    {
     "name": "stdout",
     "output_type": "stream",
     "text": [
      " *  *  *  *  * \n",
      "  *  *  *  * \n",
      "   *  *  * \n",
      "    *  * \n",
      "     * \n"
     ]
    }
   ],
   "source": [
    "# pattern like pyramid falling towards down\n",
    "n=5\n",
    "for i in range(n):\n",
    "    print(' '*i,end='')\n",
    "    for j in range(n-i):\n",
    "        print(' * ',end='')\n",
    "    print()"
   ]
  },
  {
   "cell_type": "code",
   "execution_count": 93,
   "id": "a3b3bc41-f74d-4177-b084-9e114046ee83",
   "metadata": {},
   "outputs": [
    {
     "name": "stdout",
     "output_type": "stream",
     "text": [
      "******\n",
      "******\n",
      "******\n",
      "******\n"
     ]
    }
   ],
   "source": [
    "#number of row is less than column value\n",
    "n=5\n",
    "for i in range(1,n):\n",
    "    for j in range(1,n+2):\n",
    "        print('*',end='')\n",
    "    print()"
   ]
  },
  {
   "cell_type": "code",
   "execution_count": 19,
   "id": "cbe7dafd-ed76-46e8-829b-7a8d8b849fe7",
   "metadata": {},
   "outputs": [
    {
     "name": "stdout",
     "output_type": "stream",
     "text": [
      " *  *  *  * \n",
      " *        * \n",
      " *        * \n",
      " *  *  *  * \n"
     ]
    }
   ],
   "source": [
    "n=5\n",
    "for i in range(1,n):\n",
    "    for j in range(1,n):\n",
    "        if( i==(1) or j==(1) or i==(n-1) or j==(n-1)):\n",
    "            print(' * ',end='')\n",
    "        else:\n",
    "            print('   ' ,end='')\n",
    "            \n",
    "    print()"
   ]
  },
  {
   "cell_type": "code",
   "execution_count": null,
   "id": "261ac915-728b-4953-a73f-a4e518317441",
   "metadata": {},
   "outputs": [],
   "source": []
  },
  {
   "cell_type": "code",
   "execution_count": null,
   "id": "852e0e05-b528-491d-9e01-849d182e2a65",
   "metadata": {},
   "outputs": [],
   "source": []
  }
 ],
 "metadata": {
  "kernelspec": {
   "display_name": "Python 3 (ipykernel)",
   "language": "python",
   "name": "python3"
  },
  "language_info": {
   "codemirror_mode": {
    "name": "ipython",
    "version": 3
   },
   "file_extension": ".py",
   "mimetype": "text/x-python",
   "name": "python",
   "nbconvert_exporter": "python",
   "pygments_lexer": "ipython3",
   "version": "3.12.4"
  }
 },
 "nbformat": 4,
 "nbformat_minor": 5
}
