{
 "cells": [
  {
   "cell_type": "code",
   "execution_count": 1,
   "id": "c6d08dd8-9516-4ca4-b5c2-0e0a369c17ee",
   "metadata": {},
   "outputs": [
    {
     "name": "stdout",
     "output_type": "stream",
     "text": [
      "Before : 15 <class 'int'>\n",
      "After : 15.0 <class 'float'>\n"
     ]
    }
   ],
   "source": [
    "#integer to float conversion\n",
    "a=15\n",
    "b=float(a)\n",
    "print('Before :',a,type(a))\n",
    "print('After :',b, type(b))"
   ]
  },
  {
   "cell_type": "code",
   "execution_count": 3,
   "id": "2e69b7b0-4f97-4e67-a4f6-1b36e4d32366",
   "metadata": {},
   "outputs": [
    {
     "name": "stdout",
     "output_type": "stream",
     "text": [
      "Before : 28.69 <class 'str'>\n",
      "After : 28.69 <class 'float'>\n"
     ]
    }
   ],
   "source": [
    "#string to float\n",
    "a='28.69'\n",
    "b=float(a)\n",
    "print('Before :',a,type(a))\n",
    "print('After :',b, type(b))"
   ]
  },
  {
   "cell_type": "code",
   "execution_count": 5,
   "id": "ce31265e-6cdd-4073-ae00-ceddd56ffa70",
   "metadata": {},
   "outputs": [
    {
     "name": "stdout",
     "output_type": "stream",
     "text": [
      "Before : True <class 'bool'>\n",
      "After : 1.0 <class 'float'>\n"
     ]
    }
   ],
   "source": [
    "#Boolean to float\n",
    "a=True\n",
    "b=float(a)\n",
    "print('Before :',a,type(a))\n",
    "print('After :',b, type(b))"
   ]
  },
  {
   "cell_type": "code",
   "execution_count": 11,
   "id": "ed06f97a-4228-4d1a-a78e-eac0e89059db",
   "metadata": {},
   "outputs": [
    {
     "name": "stdout",
     "output_type": "stream",
     "text": [
      "20.0\n",
      "17.56\n",
      "Before : (17.56+20j) <class 'complex'>\n",
      "After : 20.0 <class 'float'>\n"
     ]
    }
   ],
   "source": [
    "#complex no. to Float\n",
    "a=17.56+20j\n",
    "b=float(a.imag)\n",
    "print(b)\n",
    "c=float(a.real)\n",
    "print(c)\n",
    "print('Before :',a,type(a))\n",
    "print('After :',b, type(b))"
   ]
  },
  {
   "cell_type": "code",
   "execution_count": null,
   "id": "fd951534-abfd-4fbb-9a19-d504af1cad59",
   "metadata": {},
   "outputs": [],
   "source": []
  }
 ],
 "metadata": {
  "kernelspec": {
   "display_name": "Python 3 (ipykernel)",
   "language": "python",
   "name": "python3"
  },
  "language_info": {
   "codemirror_mode": {
    "name": "ipython",
    "version": 3
   },
   "file_extension": ".py",
   "mimetype": "text/x-python",
   "name": "python",
   "nbconvert_exporter": "python",
   "pygments_lexer": "ipython3",
   "version": "3.12.4"
  }
 },
 "nbformat": 4,
 "nbformat_minor": 5
}
