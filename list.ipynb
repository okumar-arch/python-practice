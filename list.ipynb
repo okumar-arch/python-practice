{
 "cells": [
  {
   "cell_type": "code",
   "execution_count": 3,
   "id": "0f88dad9-cc5d-40d1-96fe-76e5ccf55ede",
   "metadata": {},
   "outputs": [
    {
     "name": "stdout",
     "output_type": "stream",
     "text": [
      "[3, 4, 5, 6]\n"
     ]
    }
   ],
   "source": [
    "list=[3,4,5,6]\n",
    "print(list)"
   ]
  },
  {
   "cell_type": "code",
   "execution_count": 5,
   "id": "4d0dd6be-1464-4435-9636-041916d3a90b",
   "metadata": {},
   "outputs": [
    {
     "name": "stdout",
     "output_type": "stream",
     "text": [
      "[1.1, 3.5, 6.7, 8.8]\n"
     ]
    }
   ],
   "source": [
    "y=[1.1,3.5,6.7,8.8]\n",
    "print(y)"
   ]
  },
  {
   "cell_type": "code",
   "execution_count": 7,
   "id": "144118db-2c0e-479c-b0aa-6742166bec1a",
   "metadata": {},
   "outputs": [
    {
     "name": "stdout",
     "output_type": "stream",
     "text": [
      "['a', 'b', 'c', 'd']\n"
     ]
    }
   ],
   "source": [
    "z=['a','b','c','d']\n",
    "print(z)"
   ]
  },
  {
   "cell_type": "code",
   "execution_count": 9,
   "id": "4a001e8a-16ca-4ee0-8db0-edbb403e4714",
   "metadata": {},
   "outputs": [
    {
     "name": "stdout",
     "output_type": "stream",
     "text": [
      "['aplle', 'banana', 'orange']\n"
     ]
    }
   ],
   "source": [
    "a=['aplle','banana','orange']\n",
    "print(a)"
   ]
  },
  {
   "cell_type": "code",
   "execution_count": 11,
   "id": "e2745b41-b317-48b4-9710-be03ad6bb8c8",
   "metadata": {},
   "outputs": [
    {
     "name": "stdout",
     "output_type": "stream",
     "text": [
      "['a', 5, 'hello', 5.9]\n"
     ]
    }
   ],
   "source": [
    "b=['a',5,'hello',5.9]\n",
    "print(b)"
   ]
  },
  {
   "cell_type": "code",
   "execution_count": 23,
   "id": "b41000fd-55e1-438d-a5aa-a13028253293",
   "metadata": {},
   "outputs": [
    {
     "name": "stdout",
     "output_type": "stream",
     "text": [
      "[3, 4, 5, [5.1, 5.2, 5.3], ['heelo', 'hii']]\n",
      "5.3\n"
     ]
    }
   ],
   "source": [
    "c=[3,4,5,[5.1,5.2,5.3],['heelo','hii']]\n",
    "print(c)\n",
    "print(c[3][2])"
   ]
  },
  {
   "cell_type": "code",
   "execution_count": 41,
   "id": "1ce96467-aa9e-438a-b352-c78797e27e93",
   "metadata": {},
   "outputs": [
    {
     "name": "stdout",
     "output_type": "stream",
     "text": [
      "['python']\n"
     ]
    }
   ],
   "source": [
    "d=['python']\n",
    "print(d)"
   ]
  },
  {
   "cell_type": "code",
   "execution_count": 9,
   "id": "7695a9e6-bd5b-4921-9091-bc31da9261d9",
   "metadata": {},
   "outputs": [
    {
     "name": "stdout",
     "output_type": "stream",
     "text": [
      "[1, 2, 3, 4]\n",
      "1 2\n",
      "[3, 4]\n"
     ]
    }
   ],
   "source": [
    "num=[1,2,3,4]\n",
    "print(num)\n",
    "a,b,*other=num\n",
    "print(a,b)\n",
    "print(other)"
   ]
  },
  {
   "cell_type": "code",
   "execution_count": 21,
   "id": "513fdd09-6ebf-45a3-a059-de9654beaf4a",
   "metadata": {},
   "outputs": [
    {
     "name": "stdout",
     "output_type": "stream",
     "text": [
      "apple\n",
      "banana\n",
      "chiku\n",
      "kiwi\n"
     ]
    }
   ],
   "source": [
    "c=['apple','banana','chiku','orange','kiwi']\n",
    "for i in c:\n",
    "    if(i=='orange'):\n",
    "        continue \n",
    "    print(i)\n",
    "    "
   ]
  },
  {
   "cell_type": "code",
   "execution_count": 23,
   "id": "fd214593-f799-4cc7-8c6a-b11f94bbf694",
   "metadata": {},
   "outputs": [
    {
     "name": "stdout",
     "output_type": "stream",
     "text": [
      "10\n",
      "20\n",
      "30\n",
      "40\n",
      "50\n"
     ]
    }
   ],
   "source": [
    "a=[2,4,6,8,10]\n",
    "for i in a:\n",
    "    sum=i*5\n",
    "    print(sum)"
   ]
  },
  {
   "cell_type": "code",
   "execution_count": 31,
   "id": "c72ecd14-0aad-4b15-adb5-726ce580c446",
   "metadata": {},
   "outputs": [
    {
     "name": "stdout",
     "output_type": "stream",
     "text": [
      "[1, 2, 3, 4]\n",
      "[1, 2, 3, 4, 6]\n"
     ]
    }
   ],
   "source": [
    "num=[1,2,3,4]\n",
    "print (num)\n",
    "num.append(6)\n",
    "print(num)"
   ]
  },
  {
   "cell_type": "code",
   "execution_count": 33,
   "id": "771ffadd-f9af-4e3c-a9a0-8596f1df4dfd",
   "metadata": {},
   "outputs": [
    {
     "name": "stdout",
     "output_type": "stream",
     "text": [
      "[1, 2, 3, 4, 'python']\n"
     ]
    }
   ],
   "source": [
    "num=[1,2,3,4]\n",
    "stg=['python']\n",
    "num=num+stg\n",
    "print(num)"
   ]
  },
  {
   "cell_type": "code",
   "execution_count": 49,
   "id": "12f7dd60-1e5c-4f4f-947a-cd133d6176e0",
   "metadata": {},
   "outputs": [
    {
     "name": "stdout",
     "output_type": "stream",
     "text": [
      "['dolly', 1, 2, 'hello', 3, 4, 'python']\n",
      "['dolly', 1, 'hello', 3, 4, 'python']\n"
     ]
    }
   ],
   "source": [
    "num=[1,2,3,4]\n",
    "stg=['python']\n",
    "num.extend(stg)\n",
    "num.insert(2,'hello')\n",
    "num.insert(0,'dolly')\n",
    "print(num)\n",
    "num.remove(2)\n",
    "print(num)"
   ]
  },
  {
   "cell_type": "code",
   "execution_count": 65,
   "id": "7ca024db-dfc2-4cc9-aa99-ba02c64e1678",
   "metadata": {},
   "outputs": [
    {
     "name": "stdout",
     "output_type": "stream",
     "text": [
      "['a', 'b', 'f', 'y', 'z']\n",
      "5\n",
      "a\n",
      "z\n"
     ]
    }
   ],
   "source": [
    "a=['z','y','f','a','b']\n",
    "a.sort(reverse=False)\n",
    "print (a)\n",
    "print(len(a))\n",
    "print(min(a))\n",
    "print(max(a))"
   ]
  },
  {
   "cell_type": "code",
   "execution_count": 5,
   "id": "33713796-9c6c-4872-a910-76e8a987e191",
   "metadata": {},
   "outputs": [
    {
     "name": "stdout",
     "output_type": "stream",
     "text": [
      "10\n",
      "2.5\n"
     ]
    }
   ],
   "source": [
    "a=[1,2,3,4]\n",
    "print(sum(a))\n",
    "print((sum(a))/(len(a)))"
   ]
  },
  {
   "cell_type": "code",
   "execution_count": 3,
   "id": "46ff0553-a22f-4c72-b544-82a8de3768cb",
   "metadata": {},
   "outputs": [
    {
     "name": "stdout",
     "output_type": "stream",
     "text": [
      "[1, 2, 3, 4, 5, 6, 7, 8, 9, 10]\n",
      "[1, 3, 5, 7, 9]\n",
      "[2, 4, 6, 8, 10]\n"
     ]
    }
   ],
   "source": [
    "list1=list(range(1,11))\n",
    "print(list1)\n",
    "odd=list1[::2]\n",
    "print(odd)\n",
    "even=list1[1::2]\n",
    "print(even)"
   ]
  },
  {
   "cell_type": "code",
   "execution_count": 23,
   "id": "790a4563-d585-4027-a6d7-d5601c1c3482",
   "metadata": {},
   "outputs": [
    {
     "name": "stdin",
     "output_type": "stream",
     "text": [
      " -2\n",
      " 2\n"
     ]
    },
    {
     "name": "stdout",
     "output_type": "stream",
     "text": [
      "1\n"
     ]
    }
   ],
   "source": [
    "def sum1(a,b):\n",
    "    add=0\n",
    "    for i in range(b):\n",
    "        add=add+i\n",
    "    print(add)\n",
    "a=int(input())\n",
    "b=int(input())\n",
    "sum1(a,b)\n"
   ]
  },
  {
   "cell_type": "code",
   "execution_count": null,
   "id": "64fe8446-9ae2-463b-82b1-6214a4af7ca9",
   "metadata": {},
   "outputs": [],
   "source": []
  }
 ],
 "metadata": {
  "kernelspec": {
   "display_name": "Python 3 (ipykernel)",
   "language": "python",
   "name": "python3"
  },
  "language_info": {
   "codemirror_mode": {
    "name": "ipython",
    "version": 3
   },
   "file_extension": ".py",
   "mimetype": "text/x-python",
   "name": "python",
   "nbconvert_exporter": "python",
   "pygments_lexer": "ipython3",
   "version": "3.12.4"
  }
 },
 "nbformat": 4,
 "nbformat_minor": 5
}
